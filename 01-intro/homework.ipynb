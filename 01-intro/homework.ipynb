{
 "cells": [
  {
   "cell_type": "code",
   "execution_count": 1,
   "id": "eed78807",
   "metadata": {},
   "outputs": [],
   "source": [
    "import pandas as pd # type: ignore\n",
    "from sklearn.feature_extraction import DictVectorizer # type: ignore\n",
    "from sklearn.linear_model import LinearRegression # type: ignore\n",
    "from sklearn.metrics import root_mean_squared_error # type: ignore\n",
    "\n",
    "import seaborn as sns # type: ignore\n",
    "import matplotlib.pyplot as plt # type: ignore\n",
    "\n",
    "import warnings\n",
    "warnings.filterwarnings('ignore')"
   ]
  },
  {
   "cell_type": "markdown",
   "id": "38169356",
   "metadata": {},
   "source": [
    "### Q1. Downloading the data"
   ]
  },
  {
   "cell_type": "code",
   "execution_count": 2,
   "id": "e1a496f7",
   "metadata": {},
   "outputs": [
    {
     "name": "stdout",
     "output_type": "stream",
     "text": [
      "Number of columns in January data: 19\n"
     ]
    }
   ],
   "source": [
    "january_data_url = \"https://d37ci6vzurychx.cloudfront.net/trip-data/yellow_tripdata_2023-01.parquet\"\n",
    "february_data_url = \"https://d37ci6vzurychx.cloudfront.net/trip-data/yellow_tripdata_2023-02.parquet\"\n",
    "\n",
    "# Read the data from parquet file\n",
    "january_data = pd.read_parquet(january_data_url)\n",
    "february_data = pd.read_parquet(february_data_url)\n",
    "\n",
    "\n",
    "# Check the number of columns in the January data\n",
    "num_columns_january = len(january_data.columns)\n",
    "print(f\"Number of columns in January data: {num_columns_january}\")"
   ]
  },
  {
   "cell_type": "code",
   "execution_count": 3,
   "id": "30b07673",
   "metadata": {},
   "outputs": [],
   "source": [
    "def add_duration_column(df):\n",
    "    df['tpep_pickup_datetime'] = pd.to_datetime(df['tpep_pickup_datetime'])\n",
    "    df['tpep_dropoff_datetime'] = pd.to_datetime(df['tpep_dropoff_datetime'])\n",
    "    df['duration'] = (df['tpep_dropoff_datetime'] - df['tpep_pickup_datetime']).dt.total_seconds() / 60\n",
    "    return df\n",
    "\n",
    "def filter_data(df):\n",
    "    filtered_df = df[(df.duration >= 1) & (df.duration <= 60)].copy()\n",
    "    fraction_left = len(filtered_df) / len(df)\n",
    "    return filtered_df, fraction_left\n",
    "\n",
    "def convert_df_to_dict_list(df):\n",
    "    return df[['PULocationID', 'DOLocationID']].astype(str).to_dict(orient='records')\n",
    "\n",
    "def get_feature_matrix(data, vectorizer_model):\n",
    "    feature_matrix = vectorizer_model.transform(data)\n",
    "    return feature_matrix\n",
    "\n",
    "def visualize_model_performance(y_pred, y_actual):\n",
    "    sns.histplot(y_pred, label='prediction')\n",
    "    sns.histplot(y_actual, label='actual')\n",
    "    plt.legend()"
   ]
  },
  {
   "cell_type": "markdown",
   "id": "7d329ac5",
   "metadata": {},
   "source": [
    "### Q2. Computing duration"
   ]
  },
  {
   "cell_type": "code",
   "execution_count": 4,
   "id": "3728511e",
   "metadata": {},
   "outputs": [
    {
     "name": "stdout",
     "output_type": "stream",
     "text": [
      "Standard deviation of trip durations in January: 42.594351241920904\n"
     ]
    }
   ],
   "source": [
    "january_data = add_duration_column(january_data)\n",
    "std_duration_january = january_data['duration'].std()\n",
    "\n",
    "print(f\"Standard deviation of trip durations in January: {std_duration_january}\")"
   ]
  },
  {
   "cell_type": "markdown",
   "id": "c104664c",
   "metadata": {},
   "source": [
    "### Q3. Dropping outliers"
   ]
  },
  {
   "cell_type": "code",
   "execution_count": 5,
   "id": "bf32993f",
   "metadata": {},
   "outputs": [
    {
     "name": "stdout",
     "output_type": "stream",
     "text": [
      "Fraction of records left after dropping outliers: 98.1220282212598%\n"
     ]
    }
   ],
   "source": [
    "filtered_jan_data, fraction_left = filter_data(january_data)\n",
    "\n",
    "print(f\"Fraction of records left after dropping outliers: {fraction_left * 100}%\")"
   ]
  },
  {
   "cell_type": "markdown",
   "id": "6a70a27d",
   "metadata": {},
   "source": [
    "### Q4. One-hot encoding"
   ]
  },
  {
   "cell_type": "code",
   "execution_count": 6,
   "id": "013a3190",
   "metadata": {},
   "outputs": [
    {
     "name": "stdout",
     "output_type": "stream",
     "text": [
      "Dimensionality of the feature matrix (number of columns): 515\n"
     ]
    }
   ],
   "source": [
    "converted_jan_data = convert_df_to_dict_list(filtered_jan_data)\n",
    "vectorizer = DictVectorizer()\n",
    "vectorizer.fit(converted_jan_data)\n",
    "\n",
    "jan_feture_matrix = get_feature_matrix(converted_jan_data, vectorizer)\n",
    "num_columns_feature_matrix = jan_feture_matrix.shape[1]\n",
    "print(f\"Dimensionality of the feature matrix (number of columns): {num_columns_feature_matrix}\")"
   ]
  },
  {
   "cell_type": "markdown",
   "id": "ce0fd458",
   "metadata": {},
   "source": [
    "### Q5. Training a model"
   ]
  },
  {
   "cell_type": "code",
   "execution_count": 7,
   "id": "47494db3",
   "metadata": {},
   "outputs": [
    {
     "name": "stdout",
     "output_type": "stream",
     "text": [
      "RMSE on training data: 7.649262438906783\n"
     ]
    }
   ],
   "source": [
    "X_train = jan_feture_matrix\n",
    "y_train = filtered_jan_data['duration'].values\n",
    "\n",
    "model = LinearRegression()\n",
    "model.fit(X_train, y_train)\n",
    "\n",
    "y_pred_train = model.predict(X_train)\n",
    "train_rmse = root_mean_squared_error(y_train, y_pred_train)\n",
    "print(f\"RMSE on training data: {train_rmse}\")"
   ]
  },
  {
   "cell_type": "code",
   "execution_count": 8,
   "id": "c8f23ab7",
   "metadata": {},
   "outputs": [
    {
     "data": {
      "image/png": "[encoded data removed]",
      "text/plain": [
       "<Figure size 640x480 with 1 Axes>"
      ]
     },
     "metadata": {},
     "output_type": "display_data"
    }
   ],
   "source": [
    "visualize_model_performance(y_pred_train, y_train)"
   ]
  },
  {
   "cell_type": "markdown",
   "id": "1733c888",
   "metadata": {},
   "source": [
    "### Q6. Evaluating the model"
   ]
  },
  {
   "cell_type": "code",
   "execution_count": 9,
   "id": "f79bcab7",
   "metadata": {},
   "outputs": [
    {
     "name": "stdout",
     "output_type": "stream",
     "text": [
      "RMSE on validation data: 7.811811351718822\n"
     ]
    }
   ],
   "source": [
    "february_data = add_duration_column(february_data)\n",
    "filtered_february_data, _ = filter_data(february_data)\n",
    "converted_feb_data = convert_df_to_dict_list(filtered_february_data)\n",
    "\n",
    "X_val = feature_matrix = get_feature_matrix(converted_feb_data, vectorizer)\n",
    "y_val = filtered_february_data['duration'].values\n",
    "\n",
    "y_pred_val = model.predict(X_val)\n",
    "\n",
    "val_rmse = root_mean_squared_error(y_val, y_pred_val)\n",
    "print(f\"RMSE on validation data: {val_rmse}\")"
   ]
  },
  {
   "cell_type": "code",
   "execution_count": 10,
   "id": "43b26d61",
   "metadata": {},
   "outputs": [
    {
     "data": {
      "image/png": "[encoded data removed]",
      "text/plain": [
       "<Figure size 640x480 with 1 Axes>"
      ]
     },
     "metadata": {},
     "output_type": "display_data"
    }
   ],
   "source": [
    "visualize_model_performance(y_pred_val, y_val)"
   ]
  }
 ],
 "metadata": {
  "kernelspec": {
   "display_name": "Python 3 (ipykernel)",
   "language": "python",
   "name": "python3"
  },
  "language_info": {
   "codemirror_mode": {
    "name": "ipython",
    "version": 3
   },
   "file_extension": ".py",
   "mimetype": "text/x-python",
   "name": "python",
   "nbconvert_exporter": "python",
   "pygments_lexer": "ipython3",
   "version": "3.11.9"
  }
 },
 "nbformat": 4,
 "nbformat_minor": 5
}
